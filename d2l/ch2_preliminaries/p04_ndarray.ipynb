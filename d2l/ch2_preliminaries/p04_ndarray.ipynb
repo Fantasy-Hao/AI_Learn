{
 "cells": [
  {
   "cell_type": "code",
   "execution_count": 1,
   "id": "d49c8f18-797d-4e00-96c0-62e8fc009f08",
   "metadata": {
    "ExecuteTime": {
     "end_time": "2024-01-31T13:10:41.429223563Z",
     "start_time": "2024-01-31T13:10:39.576109181Z"
    }
   },
   "outputs": [],
   "source": [
    "import torch"
   ]
  },
  {
   "cell_type": "code",
   "execution_count": 2,
   "id": "fa5853f6-3bfc-4580-9241-f89e87a8f7a0",
   "metadata": {
    "ExecuteTime": {
     "end_time": "2024-01-31T13:10:41.482821255Z",
     "start_time": "2024-01-31T13:10:41.472663633Z"
    }
   },
   "outputs": [
    {
     "data": {
      "text/plain": "tensor([ 0,  1,  2,  3,  4,  5,  6,  7,  8,  9, 10, 11])"
     },
     "execution_count": 2,
     "metadata": {},
     "output_type": "execute_result"
    }
   ],
   "source": [
    "x = torch.arange(12)\n",
    "x"
   ]
  },
  {
   "cell_type": "code",
   "execution_count": 3,
   "id": "46214a54-b682-4740-b553-4548287a3acc",
   "metadata": {
    "ExecuteTime": {
     "end_time": "2024-01-31T13:10:41.506970180Z",
     "start_time": "2024-01-31T13:10:41.473117507Z"
    }
   },
   "outputs": [
    {
     "data": {
      "text/plain": "torch.Size([12])"
     },
     "execution_count": 3,
     "metadata": {},
     "output_type": "execute_result"
    }
   ],
   "source": [
    "x.shape"
   ]
  },
  {
   "cell_type": "code",
   "execution_count": 4,
   "id": "984cb885-7e86-4852-953f-d8cf8f03a548",
   "metadata": {
    "ExecuteTime": {
     "end_time": "2024-01-31T13:10:41.530069284Z",
     "start_time": "2024-01-31T13:10:41.494728362Z"
    }
   },
   "outputs": [
    {
     "data": {
      "text/plain": "12"
     },
     "execution_count": 4,
     "metadata": {},
     "output_type": "execute_result"
    }
   ],
   "source": [
    "x.numel()"
   ]
  },
  {
   "cell_type": "code",
   "execution_count": 5,
   "id": "496649cc-8377-41bd-bf31-b30474ec515f",
   "metadata": {
    "ExecuteTime": {
     "end_time": "2024-01-31T13:10:41.530855767Z",
     "start_time": "2024-01-31T13:10:41.498101113Z"
    }
   },
   "outputs": [
    {
     "data": {
      "text/plain": "tensor([[ 0,  1,  2,  3],\n        [ 4,  5,  6,  7],\n        [ 8,  9, 10, 11]])"
     },
     "execution_count": 5,
     "metadata": {},
     "output_type": "execute_result"
    }
   ],
   "source": [
    "X = x.reshape(3, 4)\n",
    "X"
   ]
  },
  {
   "cell_type": "code",
   "execution_count": 6,
   "id": "fc293fd4-af46-4d41-9bf2-d1fb0e83fb0f",
   "metadata": {
    "ExecuteTime": {
     "end_time": "2024-01-31T13:10:41.589002057Z",
     "start_time": "2024-01-31T13:10:41.504457987Z"
    }
   },
   "outputs": [
    {
     "data": {
      "text/plain": "tensor([[[0., 0., 0., 0.],\n         [0., 0., 0., 0.],\n         [0., 0., 0., 0.]],\n\n        [[0., 0., 0., 0.],\n         [0., 0., 0., 0.],\n         [0., 0., 0., 0.]]])"
     },
     "execution_count": 6,
     "metadata": {},
     "output_type": "execute_result"
    }
   ],
   "source": [
    "torch.zeros((2, 3, 4))"
   ]
  },
  {
   "cell_type": "code",
   "execution_count": 7,
   "id": "0078ed56-b156-4b1f-94ba-260c716366d8",
   "metadata": {
    "ExecuteTime": {
     "end_time": "2024-01-31T13:10:41.590026800Z",
     "start_time": "2024-01-31T13:10:41.553071548Z"
    }
   },
   "outputs": [
    {
     "data": {
      "text/plain": "tensor([[[1., 1., 1., 1.],\n         [1., 1., 1., 1.],\n         [1., 1., 1., 1.]],\n\n        [[1., 1., 1., 1.],\n         [1., 1., 1., 1.],\n         [1., 1., 1., 1.]]])"
     },
     "execution_count": 7,
     "metadata": {},
     "output_type": "execute_result"
    }
   ],
   "source": [
    "torch.ones((2, 3, 4))"
   ]
  },
  {
   "cell_type": "code",
   "execution_count": 8,
   "id": "f7b2c303-3499-4052-9d65-3e91c3b6436e",
   "metadata": {
    "ExecuteTime": {
     "end_time": "2024-01-31T13:10:41.590736789Z",
     "start_time": "2024-01-31T13:10:41.553287614Z"
    }
   },
   "outputs": [
    {
     "data": {
      "text/plain": "tensor([[ 2.9380,  1.3369, -0.4186,  1.4934],\n        [-1.5899,  1.9625,  0.1271, -0.3754],\n        [ 2.5138,  2.9095, -1.2132,  0.1241]])"
     },
     "execution_count": 8,
     "metadata": {},
     "output_type": "execute_result"
    }
   ],
   "source": [
    "torch.randn(3, 4)"
   ]
  },
  {
   "cell_type": "code",
   "execution_count": 9,
   "id": "ec143870-6270-45a7-b468-a8340e5ec217",
   "metadata": {
    "ExecuteTime": {
     "end_time": "2024-01-31T13:10:41.591398029Z",
     "start_time": "2024-01-31T13:10:41.553435616Z"
    }
   },
   "outputs": [
    {
     "data": {
      "text/plain": "tensor([[2, 1, 4, 3],\n        [1, 2, 3, 4],\n        [4, 3, 2, 1]])"
     },
     "execution_count": 9,
     "metadata": {},
     "output_type": "execute_result"
    }
   ],
   "source": [
    "torch.tensor([[2, 1, 4, 3], [1, 2, 3, 4], [4, 3, 2, 1]])"
   ]
  },
  {
   "cell_type": "code",
   "execution_count": 10,
   "id": "639eb2ea-7b7f-4051-a721-587b502622e0",
   "metadata": {
    "ExecuteTime": {
     "end_time": "2024-01-31T13:10:41.592066150Z",
     "start_time": "2024-01-31T13:10:41.553623400Z"
    }
   },
   "outputs": [
    {
     "data": {
      "text/plain": "(tensor([ 3.,  4.,  6., 10.]),\n tensor([-1.,  0.,  2.,  6.]),\n tensor([ 2.,  4.,  8., 16.]),\n tensor([0.5000, 1.0000, 2.0000, 4.0000]),\n tensor([ 1.,  4., 16., 64.]))"
     },
     "execution_count": 10,
     "metadata": {},
     "output_type": "execute_result"
    }
   ],
   "source": [
    "x = torch.tensor([1.0, 2, 4, 8])\n",
    "y = torch.tensor([2, 2, 2, 2])\n",
    "x + y, x - y, x * y, x / y, x ** y "
   ]
  },
  {
   "cell_type": "code",
   "execution_count": 11,
   "id": "3490ca79-4f3a-46a0-b7e4-1a48611acd20",
   "metadata": {
    "ExecuteTime": {
     "end_time": "2024-01-31T13:10:41.592720497Z",
     "start_time": "2024-01-31T13:10:41.553784184Z"
    }
   },
   "outputs": [
    {
     "data": {
      "text/plain": "tensor([2.7183e+00, 7.3891e+00, 5.4598e+01, 2.9810e+03])"
     },
     "execution_count": 11,
     "metadata": {},
     "output_type": "execute_result"
    }
   ],
   "source": [
    "torch.exp(x)"
   ]
  },
  {
   "cell_type": "code",
   "execution_count": 12,
   "id": "04a40831-c2e1-4cf1-9337-1b9a4a82a57d",
   "metadata": {
    "ExecuteTime": {
     "end_time": "2024-01-31T13:10:41.593356069Z",
     "start_time": "2024-01-31T13:10:41.554230298Z"
    }
   },
   "outputs": [
    {
     "data": {
      "text/plain": "(tensor([[ 0.,  1.,  2.,  3.],\n         [ 4.,  5.,  6.,  7.],\n         [ 8.,  9., 10., 11.],\n         [ 2.,  1.,  4.,  3.],\n         [ 1.,  2.,  3.,  4.],\n         [ 4.,  3.,  2.,  1.]]),\n tensor([[ 0.,  1.,  2.,  3.,  2.,  1.,  4.,  3.],\n         [ 4.,  5.,  6.,  7.,  1.,  2.,  3.,  4.],\n         [ 8.,  9., 10., 11.,  4.,  3.,  2.,  1.]]))"
     },
     "execution_count": 12,
     "metadata": {},
     "output_type": "execute_result"
    }
   ],
   "source": [
    "X = torch.arange(12, dtype=torch.float32).reshape((3,4))\n",
    "Y = torch.tensor([[2.0, 1, 4, 3], [1, 2, 3, 4], [4, 3, 2, 1]])\n",
    "torch.cat((X, Y), dim=0), torch.cat((X, Y), dim=1)"
   ]
  },
  {
   "cell_type": "code",
   "execution_count": 13,
   "id": "6ac18443-fda2-46f8-b53e-40a90637be41",
   "metadata": {
    "ExecuteTime": {
     "end_time": "2024-01-31T13:10:41.594039808Z",
     "start_time": "2024-01-31T13:10:41.554376993Z"
    }
   },
   "outputs": [
    {
     "data": {
      "text/plain": "tensor([[False,  True, False,  True],\n        [False, False, False, False],\n        [False, False, False, False]])"
     },
     "execution_count": 13,
     "metadata": {},
     "output_type": "execute_result"
    }
   ],
   "source": [
    "X == Y"
   ]
  },
  {
   "cell_type": "code",
   "execution_count": 14,
   "id": "3691a14e-9865-4b62-863e-88f4adf277c0",
   "metadata": {
    "ExecuteTime": {
     "end_time": "2024-01-31T13:10:41.678105458Z",
     "start_time": "2024-01-31T13:10:41.596766864Z"
    }
   },
   "outputs": [
    {
     "data": {
      "text/plain": "tensor(66.)"
     },
     "execution_count": 14,
     "metadata": {},
     "output_type": "execute_result"
    }
   ],
   "source": [
    "X.sum()"
   ]
  },
  {
   "cell_type": "code",
   "execution_count": 15,
   "id": "d8ca802b-83e1-4ba8-928d-327b4380d23d",
   "metadata": {
    "ExecuteTime": {
     "end_time": "2024-01-31T13:10:41.678918056Z",
     "start_time": "2024-01-31T13:10:41.597051829Z"
    }
   },
   "outputs": [
    {
     "data": {
      "text/plain": "(tensor([[0],\n         [1],\n         [2]]),\n tensor([[0, 1]]))"
     },
     "execution_count": 15,
     "metadata": {},
     "output_type": "execute_result"
    }
   ],
   "source": [
    "a = torch.arange(3).reshape((3, 1))\n",
    "b = torch.arange(2).reshape((1, 2))\n",
    "a, b"
   ]
  },
  {
   "cell_type": "code",
   "execution_count": 16,
   "id": "f59320f4-9288-4809-9428-a9fa41a902a4",
   "metadata": {
    "ExecuteTime": {
     "end_time": "2024-01-31T13:10:41.679573262Z",
     "start_time": "2024-01-31T13:10:41.597201553Z"
    }
   },
   "outputs": [
    {
     "data": {
      "text/plain": "tensor([[0, 1],\n        [1, 2],\n        [2, 3]])"
     },
     "execution_count": 16,
     "metadata": {},
     "output_type": "execute_result"
    }
   ],
   "source": [
    "a + b"
   ]
  },
  {
   "cell_type": "code",
   "execution_count": 17,
   "id": "73f3fb46-4ea3-424b-b872-f303ec4f9621",
   "metadata": {
    "ExecuteTime": {
     "end_time": "2024-01-31T13:10:41.680510351Z",
     "start_time": "2024-01-31T13:10:41.597332207Z"
    }
   },
   "outputs": [
    {
     "data": {
      "text/plain": "(tensor([ 8.,  9., 10., 11.]),\n tensor([[ 4.,  5.,  6.,  7.],\n         [ 8.,  9., 10., 11.]]))"
     },
     "execution_count": 17,
     "metadata": {},
     "output_type": "execute_result"
    }
   ],
   "source": [
    "X[-1], X[1:3]"
   ]
  },
  {
   "cell_type": "code",
   "execution_count": 18,
   "id": "38e2ffa8-e5e3-4fe6-90c8-39f229f4d8a0",
   "metadata": {
    "ExecuteTime": {
     "end_time": "2024-01-31T13:10:41.681191741Z",
     "start_time": "2024-01-31T13:10:41.597473970Z"
    }
   },
   "outputs": [
    {
     "data": {
      "text/plain": "tensor([[ 0.,  1.,  2.,  3.],\n        [ 4.,  5.,  9.,  7.],\n        [ 8.,  9., 10., 11.]])"
     },
     "execution_count": 18,
     "metadata": {},
     "output_type": "execute_result"
    }
   ],
   "source": [
    "X[1, 2] = 9\n",
    "X"
   ]
  },
  {
   "cell_type": "code",
   "execution_count": 19,
   "id": "cf87d9ad-6dc8-4fec-ae33-6c28a1f7864b",
   "metadata": {
    "ExecuteTime": {
     "end_time": "2024-01-31T13:10:41.681833152Z",
     "start_time": "2024-01-31T13:10:41.597717290Z"
    }
   },
   "outputs": [
    {
     "data": {
      "text/plain": "tensor([[12., 12., 12., 12.],\n        [12., 12., 12., 12.],\n        [ 8.,  9., 10., 11.]])"
     },
     "execution_count": 19,
     "metadata": {},
     "output_type": "execute_result"
    }
   ],
   "source": [
    "X[0:2, :] = 12\n",
    "X"
   ]
  },
  {
   "cell_type": "code",
   "execution_count": 20,
   "id": "678a2ef9-1f7b-4b43-9cbd-c13a9409ffab",
   "metadata": {
    "ExecuteTime": {
     "end_time": "2024-01-31T13:10:41.682453674Z",
     "start_time": "2024-01-31T13:10:41.597850108Z"
    }
   },
   "outputs": [
    {
     "data": {
      "text/plain": "False"
     },
     "execution_count": 20,
     "metadata": {},
     "output_type": "execute_result"
    }
   ],
   "source": [
    "before = id(Y)\n",
    "Y = Y + X\n",
    "id(Y) == before"
   ]
  },
  {
   "cell_type": "code",
   "execution_count": 21,
   "id": "554bf33b-1668-46be-9b4e-346abc0fd8d7",
   "metadata": {
    "ExecuteTime": {
     "end_time": "2024-01-31T13:10:41.687796668Z",
     "start_time": "2024-01-31T13:10:41.598015096Z"
    }
   },
   "outputs": [
    {
     "name": "stdout",
     "output_type": "stream",
     "text": [
      "id(Z): 140654404978464\n",
      "id(Z): 140654404978464\n"
     ]
    }
   ],
   "source": [
    "Z = torch.zeros_like(Y)\n",
    "print('id(Z):', id(Z))\n",
    "Z[:] = X + Y\n",
    "print('id(Z):', id(Z))"
   ]
  },
  {
   "cell_type": "code",
   "execution_count": 22,
   "id": "0f38b209-607c-4663-9cd4-7ba07efa890d",
   "metadata": {
    "ExecuteTime": {
     "end_time": "2024-01-31T13:10:41.688694662Z",
     "start_time": "2024-01-31T13:10:41.602285727Z"
    }
   },
   "outputs": [
    {
     "data": {
      "text/plain": "True"
     },
     "execution_count": 22,
     "metadata": {},
     "output_type": "execute_result"
    }
   ],
   "source": [
    "before = id(X)\n",
    "X += Y\n",
    "id(X) == before"
   ]
  },
  {
   "cell_type": "code",
   "execution_count": 23,
   "id": "14184ae3-cde7-4142-8aae-62532963b380",
   "metadata": {
    "ExecuteTime": {
     "end_time": "2024-01-31T13:10:41.689971766Z",
     "start_time": "2024-01-31T13:10:41.608404452Z"
    }
   },
   "outputs": [
    {
     "data": {
      "text/plain": "(numpy.ndarray, torch.Tensor)"
     },
     "execution_count": 23,
     "metadata": {},
     "output_type": "execute_result"
    }
   ],
   "source": [
    "A = X.numpy()\n",
    "B = torch.tensor(A)\n",
    "type(A), type(B)"
   ]
  },
  {
   "cell_type": "code",
   "execution_count": 24,
   "id": "ad6fdb43-0913-4de7-94b7-0a3cb7e76e85",
   "metadata": {
    "ExecuteTime": {
     "end_time": "2024-01-31T13:10:41.691055139Z",
     "start_time": "2024-01-31T13:10:41.617282124Z"
    }
   },
   "outputs": [
    {
     "data": {
      "text/plain": "(tensor([3.5000]), 3.5, 3.5, 3)"
     },
     "execution_count": 24,
     "metadata": {},
     "output_type": "execute_result"
    }
   ],
   "source": [
    "a = torch.tensor([3.5])\n",
    "a, a.item(), float(a), int(a)"
   ]
  },
  {
   "cell_type": "code",
   "execution_count": 24,
   "id": "693ffb13-0ebb-4e9d-8f56-2f1533d6e0ec",
   "metadata": {
    "ExecuteTime": {
     "end_time": "2024-01-31T13:10:41.764336825Z",
     "start_time": "2024-01-31T13:10:41.625045802Z"
    }
   },
   "outputs": [],
   "source": []
  }
 ],
 "metadata": {
  "kernelspec": {
   "display_name": "Python 3 (ipykernel)",
   "language": "python",
   "name": "python3"
  },
  "language_info": {
   "codemirror_mode": {
    "name": "ipython",
    "version": 3
   },
   "file_extension": ".py",
   "mimetype": "text/x-python",
   "name": "python",
   "nbconvert_exporter": "python",
   "pygments_lexer": "ipython3",
   "version": "3.9.15"
  }
 },
 "nbformat": 4,
 "nbformat_minor": 5
}
